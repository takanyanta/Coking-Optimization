{
 "cells": [
  {
   "cell_type": "code",
   "execution_count": 102,
   "id": "artificial-budapest",
   "metadata": {},
   "outputs": [],
   "source": [
    "from mypulp import *\n",
    "import numpy as np\n",
    "import pandas as pd"
   ]
  },
  {
   "cell_type": "code",
   "execution_count": 103,
   "id": "fourth-efficiency",
   "metadata": {},
   "outputs": [],
   "source": [
    "p = {}\n",
    "p[0] = 5\n",
    "p[1] = 1\n",
    "p[2] = 1\n",
    "\n",
    "p[3] = 3\n",
    "p[4] = 1\n",
    "\n",
    "p[5] = 4\n",
    "p[6] = 1\n",
    "\n",
    "p[7] = 3\n",
    "p[8] = 2\n",
    "\n",
    "p[9] = 1\n",
    "p[10] = 1\n",
    "p[11] = 1\n",
    "\n",
    "p[12] = 2\n",
    "p[13] = 2\n",
    "p[14] = 2\n",
    "\n",
    "p[15] = 4\n",
    "p[16] = 1\n",
    "p[17] = 1"
   ]
  },
  {
   "cell_type": "code",
   "execution_count": 104,
   "id": "adaptive-quilt",
   "metadata": {},
   "outputs": [],
   "source": [
    "# Deine Model\n",
    "model = Model(\"Cooking\")\n",
    "\n",
    "# Define Variable\n",
    "feature_num = len(p)\n",
    "\n",
    "x = {}# if job j starts before job k => 1\n",
    "for j in range(feature_num):\n",
    "    for k in range(feature_num):\n",
    "        if j != k:\n",
    "            x[j, k] = model.addVar(vtype=\"B\")\n",
    "    \n",
    "s = {}# job j's start time\n",
    "for j in range(feature_num):\n",
    "    s[j] = model.addVar(vtype=\"C\")\n",
    "\n",
    "model.update()"
   ]
  },
  {
   "cell_type": "code",
   "execution_count": 105,
   "id": "united-observer",
   "metadata": {},
   "outputs": [],
   "source": [
    "# Disjunctive Constraint\n",
    "for i in range(feature_num):\n",
    "    for j in range(feature_num):\n",
    "        if i != j:\n",
    "            model.addConstr( s[i] + p[i] - s[j] <=     100*(1-x[i, j]))"
   ]
  },
  {
   "cell_type": "code",
   "execution_count": 106,
   "id": "broke-granny",
   "metadata": {},
   "outputs": [],
   "source": [
    "for j in range(feature_num):\n",
    "    for k in range(feature_num):\n",
    "        if j < k:\n",
    "            model.addConstr( x[j, k] + x[k, j] == 1)"
   ]
  },
  {
   "cell_type": "code",
   "execution_count": 107,
   "id": "continuous-thing",
   "metadata": {},
   "outputs": [],
   "source": [
    "#Start Time Constraint\n",
    "for j in range(feature_num):\n",
    "    model.addConstr( quicksum(p[k]*x[k , j] for k in range(feature_num) if j != k)  <= s[j])"
   ]
  },
  {
   "cell_type": "code",
   "execution_count": 108,
   "id": "acquired-harvest",
   "metadata": {},
   "outputs": [
    {
     "data": {
      "text/plain": [
       "100*x_303 + -1*x_320 + 1*x_324 + -99 <= 0"
      ]
     },
     "execution_count": 108,
     "metadata": {},
     "output_type": "execute_result"
    }
   ],
   "source": [
    "# In the same redipe, it can't pass post-job\n",
    "list_ = [0, 1, 3, 5, 7, 12, 13]\n",
    "\n",
    "for i in list_:\n",
    "    model.addConstr( s[i] + p[i]  <= s[i+1] )\n",
    "\n",
    "# when using grill or frying pan, for the safe, heating time is strictly obeyed\n",
    "model.addConstr( s[9] + p[9] + 5 == s[10] )\n",
    "model.addConstr( s[10] + p[10] + 3 == s[11] )\n",
    "\n",
    "model.addConstr( s[15] + p[15] + 4 == s[16] )\n",
    "model.addConstr( s[16] + p[16] + 3 == s[17] )\n",
    "\n",
    "# As Hotcook is shared with Steamed Sweet Potatoes and Roast Beef, so it can't use simultaneously\n",
    "model.addConstr(  s[4] + p[4] + 15 - s[14]   <=  100*(1-x[4, 14]) )\n",
    "model.addConstr(  s[14] + p[14] + 30 - s[4]  <=  100*(1-x[14, 4]) )\n",
    "\n",
    "# As Frying pan is shared with Roast Beef and Pancake, so it can't use simultaneously\n",
    "model.addConstr(  s[13] + p[13] +  - s[17]   <=  100*(1-x[13, 17]) )\n",
    "model.addConstr(  s[17] + p[17] +  - s[13]  <=  100*(1-x[17, 13]) )"
   ]
  },
  {
   "cell_type": "code",
   "execution_count": 109,
   "id": "adapted-mercury",
   "metadata": {},
   "outputs": [],
   "source": [
    "model.setObjective(quicksum(s[j] for j in range(feature_num)), GRB.MINIMIZE )\n",
    "\n",
    "model.optimize()"
   ]
  },
  {
   "cell_type": "code",
   "execution_count": 110,
   "id": "threatened-luxury",
   "metadata": {},
   "outputs": [
    {
     "name": "stdout",
     "output_type": "stream",
     "text": [
      "1\n"
     ]
    }
   ],
   "source": [
    "print(model.Status)"
   ]
  },
  {
   "cell_type": "code",
   "execution_count": 111,
   "id": "specific-series",
   "metadata": {},
   "outputs": [
    {
     "name": "stdout",
     "output_type": "stream",
     "text": [
      "Opt. Value= 379.0\n"
     ]
    }
   ],
   "source": [
    "if model.Status == 1 :\n",
    "    print('Opt. Value=', model.ObjVal)\n",
    "\n",
    "    S_ = []\n",
    "    for j in range(feature_num):\n",
    "        S_.append([j, s[j].X])"
   ]
  },
  {
   "cell_type": "code",
   "execution_count": 112,
   "id": "statewide-slave",
   "metadata": {},
   "outputs": [],
   "source": [
    "dict_ = {\"0\":\"0. French Fries:Peel&Cut\", \"1\":\"1. French Fries:set the material to the device\", \"2\":\"2. French Fries:clean up the sink\", \n",
    "         \"3\":\"3. Steamed Sweet Potatoes:Cut\", \"4\":\"4. Steamed Sweet Potatoes:set the material to the device\",\n",
    "         \"5\":\"5. Steamed Eggplant:Cut\", \"6\":\"6. Steamed Eggplant:set the material to the device\",\n",
    "         \"7\":\"7. Miso Soup:Peel&Cut\", \"8\":\"8. Miso Soup:set the material to the device\", \n",
    "         \"9\":\"9. Grilled Fish:set the material to the device\", \"10\":\"10. Grilled Fish:Turn over\", \"11\":\"11. Grilled Fish:Extinguish\",\n",
    "         \"12\":\"12. Roast Beef:make a seasoning\", \"13\":\"13. Roast Beef:heating seasoning\", \"14\":\"14. Roast Beef:set the material to the device\",\n",
    "         \"15\":\"15. Pancake:preprocess material & set to device\", \"16\":\"16. Pancake:Turn over\", \"17\":\"17. Pancake:Extinguish\"}"
   ]
  },
  {
   "cell_type": "code",
   "execution_count": 113,
   "id": "funky-snowboard",
   "metadata": {},
   "outputs": [
    {
     "data": {
      "text/html": [
       "<div>\n",
       "<style scoped>\n",
       "    .dataframe tbody tr th:only-of-type {\n",
       "        vertical-align: middle;\n",
       "    }\n",
       "\n",
       "    .dataframe tbody tr th {\n",
       "        vertical-align: top;\n",
       "    }\n",
       "\n",
       "    .dataframe thead th {\n",
       "        text-align: right;\n",
       "    }\n",
       "</style>\n",
       "<table border=\"1\" class=\"dataframe\">\n",
       "  <thead>\n",
       "    <tr style=\"text-align: right;\">\n",
       "      <th></th>\n",
       "      <th>Job Name</th>\n",
       "      <th>Start Time</th>\n",
       "      <th>Finish Time</th>\n",
       "      <th>Unit Time</th>\n",
       "    </tr>\n",
       "  </thead>\n",
       "  <tbody>\n",
       "    <tr>\n",
       "      <th>0</th>\n",
       "      <td>3. Steamed Sweet Potatoes:Cut</td>\n",
       "      <td>0.0</td>\n",
       "      <td>3.0</td>\n",
       "      <td>3.0</td>\n",
       "    </tr>\n",
       "    <tr>\n",
       "      <th>1</th>\n",
       "      <td>12. Roast Beef:make a seasoning</td>\n",
       "      <td>3.0</td>\n",
       "      <td>5.0</td>\n",
       "      <td>2.0</td>\n",
       "    </tr>\n",
       "    <tr>\n",
       "      <th>2</th>\n",
       "      <td>15. Pancake:preprocess material &amp; set to device</td>\n",
       "      <td>5.0</td>\n",
       "      <td>9.0</td>\n",
       "      <td>4.0</td>\n",
       "    </tr>\n",
       "    <tr>\n",
       "      <th>3</th>\n",
       "      <td>5. Steamed Eggplant:Cut</td>\n",
       "      <td>9.0</td>\n",
       "      <td>13.0</td>\n",
       "      <td>4.0</td>\n",
       "    </tr>\n",
       "    <tr>\n",
       "      <th>4</th>\n",
       "      <td>16. Pancake:Turn over</td>\n",
       "      <td>13.0</td>\n",
       "      <td>14.0</td>\n",
       "      <td>1.0</td>\n",
       "    </tr>\n",
       "    <tr>\n",
       "      <th>5</th>\n",
       "      <td>7. Miso Soup:Peel&amp;Cut</td>\n",
       "      <td>14.0</td>\n",
       "      <td>17.0</td>\n",
       "      <td>3.0</td>\n",
       "    </tr>\n",
       "    <tr>\n",
       "      <th>6</th>\n",
       "      <td>17. Pancake:Extinguish</td>\n",
       "      <td>17.0</td>\n",
       "      <td>18.0</td>\n",
       "      <td>1.0</td>\n",
       "    </tr>\n",
       "    <tr>\n",
       "      <th>7</th>\n",
       "      <td>6. Steamed Eggplant:set the material to the de...</td>\n",
       "      <td>18.0</td>\n",
       "      <td>19.0</td>\n",
       "      <td>1.0</td>\n",
       "    </tr>\n",
       "    <tr>\n",
       "      <th>8</th>\n",
       "      <td>9. Grilled Fish:set the material to the device</td>\n",
       "      <td>19.0</td>\n",
       "      <td>20.0</td>\n",
       "      <td>1.0</td>\n",
       "    </tr>\n",
       "    <tr>\n",
       "      <th>9</th>\n",
       "      <td>0. French Fries:Peel&amp;Cut</td>\n",
       "      <td>20.0</td>\n",
       "      <td>25.0</td>\n",
       "      <td>5.0</td>\n",
       "    </tr>\n",
       "    <tr>\n",
       "      <th>10</th>\n",
       "      <td>10. Grilled Fish:Turn over</td>\n",
       "      <td>25.0</td>\n",
       "      <td>26.0</td>\n",
       "      <td>1.0</td>\n",
       "    </tr>\n",
       "    <tr>\n",
       "      <th>11</th>\n",
       "      <td>11. Grilled Fish:Extinguish</td>\n",
       "      <td>29.0</td>\n",
       "      <td>30.0</td>\n",
       "      <td>1.0</td>\n",
       "    </tr>\n",
       "    <tr>\n",
       "      <th>12</th>\n",
       "      <td>4. Steamed Sweet Potatoes:set the material to ...</td>\n",
       "      <td>30.0</td>\n",
       "      <td>31.0</td>\n",
       "      <td>1.0</td>\n",
       "    </tr>\n",
       "    <tr>\n",
       "      <th>13</th>\n",
       "      <td>1. French Fries:set the material to the device</td>\n",
       "      <td>31.0</td>\n",
       "      <td>32.0</td>\n",
       "      <td>1.0</td>\n",
       "    </tr>\n",
       "    <tr>\n",
       "      <th>14</th>\n",
       "      <td>2. French Fries:clean up the sink</td>\n",
       "      <td>32.0</td>\n",
       "      <td>33.0</td>\n",
       "      <td>1.0</td>\n",
       "    </tr>\n",
       "    <tr>\n",
       "      <th>15</th>\n",
       "      <td>8. Miso Soup:set the material to the device</td>\n",
       "      <td>33.0</td>\n",
       "      <td>35.0</td>\n",
       "      <td>2.0</td>\n",
       "    </tr>\n",
       "    <tr>\n",
       "      <th>16</th>\n",
       "      <td>13. Roast Beef:heating seasoning</td>\n",
       "      <td>35.0</td>\n",
       "      <td>37.0</td>\n",
       "      <td>2.0</td>\n",
       "    </tr>\n",
       "    <tr>\n",
       "      <th>17</th>\n",
       "      <td>14. Roast Beef:set the material to the device</td>\n",
       "      <td>46.0</td>\n",
       "      <td>48.0</td>\n",
       "      <td>2.0</td>\n",
       "    </tr>\n",
       "  </tbody>\n",
       "</table>\n",
       "</div>"
      ],
      "text/plain": [
       "                                             Job Name  Start Time  \\\n",
       "0                       3. Steamed Sweet Potatoes:Cut         0.0   \n",
       "1                     12. Roast Beef:make a seasoning         3.0   \n",
       "2     15. Pancake:preprocess material & set to device         5.0   \n",
       "3                             5. Steamed Eggplant:Cut         9.0   \n",
       "4                               16. Pancake:Turn over        13.0   \n",
       "5                               7. Miso Soup:Peel&Cut        14.0   \n",
       "6                              17. Pancake:Extinguish        17.0   \n",
       "7   6. Steamed Eggplant:set the material to the de...        18.0   \n",
       "8      9. Grilled Fish:set the material to the device        19.0   \n",
       "9                            0. French Fries:Peel&Cut        20.0   \n",
       "10                         10. Grilled Fish:Turn over        25.0   \n",
       "11                        11. Grilled Fish:Extinguish        29.0   \n",
       "12  4. Steamed Sweet Potatoes:set the material to ...        30.0   \n",
       "13     1. French Fries:set the material to the device        31.0   \n",
       "14                  2. French Fries:clean up the sink        32.0   \n",
       "15        8. Miso Soup:set the material to the device        33.0   \n",
       "16                   13. Roast Beef:heating seasoning        35.0   \n",
       "17      14. Roast Beef:set the material to the device        46.0   \n",
       "\n",
       "    Finish Time  Unit Time  \n",
       "0           3.0        3.0  \n",
       "1           5.0        2.0  \n",
       "2           9.0        4.0  \n",
       "3          13.0        4.0  \n",
       "4          14.0        1.0  \n",
       "5          17.0        3.0  \n",
       "6          18.0        1.0  \n",
       "7          19.0        1.0  \n",
       "8          20.0        1.0  \n",
       "9          25.0        5.0  \n",
       "10         26.0        1.0  \n",
       "11         30.0        1.0  \n",
       "12         31.0        1.0  \n",
       "13         32.0        1.0  \n",
       "14         33.0        1.0  \n",
       "15         35.0        2.0  \n",
       "16         37.0        2.0  \n",
       "17         48.0        2.0  "
      ]
     },
     "execution_count": 113,
     "metadata": {},
     "output_type": "execute_result"
    }
   ],
   "source": [
    "result = pd.DataFrame( np.hstack( [np.array(S_)[np.argsort(np.array(S_)[:, 1]), :], \n",
    "                          np.array( [p[i] for i in  np.array(S_)[np.argsort(np.array(S_)[:, 1]), :][:, 0]] ).reshape(-1, 1)]), \n",
    "            columns=[\"Job Index\", \"Start Time\", \"Unit Time\"])\n",
    "\n",
    "result[\"Finish Time\"] = result[\"Start Time\"] + result[\"Unit Time\"]\n",
    "result[\"Job Name\"] = result[\"Job Index\"].astype(\"int\").apply(lambda x : dict_[str(x)])\n",
    "result[[\"Job Name\", \"Start Time\", \"Finish Time\", \"Unit Time\"]]"
   ]
  },
  {
   "cell_type": "code",
   "execution_count": 114,
   "id": "frank-infrastructure",
   "metadata": {},
   "outputs": [],
   "source": [
    "color = []\n",
    "for i in range(len(result)):\n",
    "    if \"French Fries\" in result[\"Job Name\"].iat[i]:\n",
    "        color.append(0)\n",
    "    elif \"Steamed Sweet Potatoes\" in result[\"Job Name\"].iat[i]:\n",
    "        color.append(1)\n",
    "    elif \"Steamed Eggplant\" in result[\"Job Name\"].iat[i]:\n",
    "        color.append(2)\n",
    "    elif \"Miso Soup\" in result[\"Job Name\"].iat[i]:\n",
    "        color.append(3)\n",
    "    elif \"Grilled Fish\" in result[\"Job Name\"].iat[i]:\n",
    "        color.append(4)\n",
    "    elif \"Roast Beef\" in result[\"Job Name\"].iat[i]:\n",
    "        color.append(5)\n",
    "    elif \"Pancake\" in result[\"Job Name\"].iat[i]:\n",
    "        color.append(6)\n",
    "\n",
    "result[\"Color\"] = color"
   ]
  },
  {
   "cell_type": "code",
   "execution_count": 115,
   "id": "scheduled-quick",
   "metadata": {},
   "outputs": [],
   "source": [
    "import plotly.express as px\n",
    "import plotly.io as pio\n",
    "from datetime import datetime"
   ]
  },
  {
   "cell_type": "code",
   "execution_count": 116,
   "id": "cardiac-angola",
   "metadata": {},
   "outputs": [],
   "source": [
    "result[\"Start Time DT\"] = result[\"Start Time\"].apply(lambda x : datetime(2021, 2, 9, 0, 0, int(x)))\n",
    "result[\"Finish Time DT\"] = result[\"Finish Time\"].apply(lambda x : datetime(2021, 2, 9, 0, 0, int(x)))"
   ]
  },
  {
   "cell_type": "code",
   "execution_count": 120,
   "id": "changing-myrtle",
   "metadata": {},
   "outputs": [],
   "source": [
    "fig = px.timeline(result, x_start=\"Start Time DT\", x_end=\"Finish Time DT\", y=\"Job Name\", color=\"Color\")\n",
    "fig.update_yaxes(autorange=\"reversed\") # otherwise tasks are listed from the bottom up\n",
    "pio.write_html(fig,file=\"./6-1.html\")"
   ]
  },
  {
   "cell_type": "code",
   "execution_count": null,
   "id": "hearing-backup",
   "metadata": {},
   "outputs": [],
   "source": []
  }
 ],
 "metadata": {
  "kernelspec": {
   "display_name": "Python 3",
   "language": "python",
   "name": "python3"
  },
  "language_info": {
   "codemirror_mode": {
    "name": "ipython",
    "version": 3
   },
   "file_extension": ".py",
   "mimetype": "text/x-python",
   "name": "python",
   "nbconvert_exporter": "python",
   "pygments_lexer": "ipython3",
   "version": "3.7.7"
  },
  "toc": {
   "base_numbering": 1,
   "nav_menu": {},
   "number_sections": true,
   "sideBar": true,
   "skip_h1_title": false,
   "title_cell": "Table of Contents",
   "title_sidebar": "Contents",
   "toc_cell": false,
   "toc_position": {},
   "toc_section_display": true,
   "toc_window_display": false
  }
 },
 "nbformat": 4,
 "nbformat_minor": 5
}
